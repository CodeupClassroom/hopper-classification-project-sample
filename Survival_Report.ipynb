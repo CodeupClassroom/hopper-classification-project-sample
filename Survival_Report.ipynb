{
 "cells": [
  {
   "cell_type": "markdown",
   "id": "a97bea00",
   "metadata": {},
   "source": [
    "# How to survive a passenger shipwreck\n",
    "\n",
    "by Maggie Giust\n",
    "2021-11-22\n",
    "\n",
    "## Project Goal\n",
    "\n",
    "The goal of this project is to identifty the attributes of passengers who survived the Titanic shipwreck in order to make receommendations of the best way to travel on a ship to maximize chance of survival should the ship run into a devastating end. \n",
    "\n",
    "## Project Description\n",
    "\n",
    "The weather is getting more and more extreme and unpredictable. We often think of the Titanic is something in the past that won't happen again. However, these events could become more frequent with the change in the oceanic warming and atmospheric changes. We will analyze the attributes of passengers who were more or less likely to survive, develop a model for predicting survival based on those attributes, and leave with both recommendations for future passengers and predictions of survival for a list of passengers on the next ship leaving (delivered via csv). \n",
    "\n",
    "## Initial Questions\n",
    "\n",
    "Was the phrase \"women and children first\" just a myth or did they really try to get out women and children first? If so, they would show as more likely to survive. \n",
    "\n",
    "Do those who travel first class get quicker access to life boats? \n",
    "\n",
    "Do families with small children get priority access? Even if they at the bottom of the boat in 3rd class? \n",
    "\n",
    "## Data Dictionary\n",
    "\n",
    "| Variable      | Meaning |\n",
    "| ----------- | ----------- |\n",
    "| Survived      |        |\n",
    "|    |         |\n"
   ]
  },
  {
   "cell_type": "markdown",
   "id": "cdd7c2e2",
   "metadata": {},
   "source": [
    "## Wrangle Titanic Data\n",
    "\n",
    "To acquire the titanic data, I used the titanic_db in our mySQL server, and selected all columns from the passengers table. `select * from titanic_db.passengers`. "
   ]
  },
  {
   "cell_type": "code",
   "execution_count": 1,
   "id": "7626a439",
   "metadata": {},
   "outputs": [],
   "source": [
    "# acquire data from sql database titanic_db.passengers\n",
    "import acquireTitanic\n",
    " \n",
    "# make the connection the database and run the query and return the table in the form of a dataframe. \n",
    "df = acquireTitanic.get_data()"
   ]
  },
  {
   "cell_type": "markdown",
   "id": "3eb48eec",
   "metadata": {},
   "source": [
    "To clean the data, I did the following: \n",
    "\n",
    "1. Dummy Vars: Get dummy variables for sex, embarked\n",
    "1. Drop columns: embarked and sex columns (now dummy vars), deck (almost 700 missing values), class (class and pclass represented the same information, so I kept the one represented as an integer). \n",
    "1. Drop rows: where age is missing (177 rows are missing values, and age will likely be a very influential feature). "
   ]
  },
  {
   "cell_type": "code",
   "execution_count": 2,
   "id": "4ce06f8e",
   "metadata": {},
   "outputs": [],
   "source": [
    "import prepTitanic\n",
    "import pandas as pd\n",
    "\n",
    "train, validate, test = prepTitanic.clean_split_titanic_data(df)"
   ]
  },
  {
   "cell_type": "markdown",
   "id": "eaf62c63",
   "metadata": {},
   "source": [
    "- Our data is now split into 3 samples so that we can use the train sample to explore, fit to models and evaluate without looking at new data. \n",
    "- The validate is used to verify that our models built are not overfit to the train dataset. \n",
    "- The test set is used to give an estimate of how this model will perform on data is has never seen in the future. \n",
    "\n",
    "## Set the Data Context\n",
    "\n",
    "x% of passengers survived. We have data from 712 passengers, x of which are males, x of which traveled in 1st class, and the average fare of all passengers was $x.yy. "
   ]
  },
  {
   "cell_type": "code",
   "execution_count": null,
   "id": "b4ed4ea8",
   "metadata": {},
   "outputs": [],
   "source": [
    "# build a viz here setting the context of the data "
   ]
  },
  {
   "cell_type": "markdown",
   "id": "0290e7c1",
   "metadata": {},
   "source": [
    "## Exploratory Analysis: Who was more likely to survive? \n",
    "\n",
    "I have answered these questions\n",
    "\n",
    "1. \n",
    "2. \n",
    "3.\n",
    "4. \n",
    "\n",
    "### Question 1\n",
    "\n",
    "Was the phrase \"women and children first\" just a myth or did they really try to get out women and children first? \n",
    "\n",
    "  - are women more likely to survive? plot barplot x-axis is sex and y-axis is survival rate\n",
    "  - are children more likely to survive? bin age into 0-16, 17+, plot barplot on x-axis where y is survival rate (new variable = is_child)\n",
    "  - run chi-square test sex + survival\n",
    "  - run a chi-square test is_child + survival\n",
    "  - run a t-test on age and survived"
   ]
  },
  {
   "cell_type": "markdown",
   "id": "5419fd1f",
   "metadata": {},
   "source": [
    "### Answer 1\n",
    "\n",
    "Women are more likely to survive.\n",
    "\n",
    "### Question 2"
   ]
  },
  {
   "cell_type": "markdown",
   "id": "b500b964",
   "metadata": {},
   "source": [
    "...\n",
    "\n",
    "### Answer 4\n",
    "\n",
    "### Summary: So, who IS most likely to survive? \n",
    "\n",
    "\n",
    "*features you will more forward with*"
   ]
  },
  {
   "cell_type": "markdown",
   "id": "2e8839b6",
   "metadata": {},
   "source": [
    "## Predicting Survival\n",
    "\n",
    "Because survival is a boolean/yes or no value, we will use classification machine learning algorithms to fit to our training data and we will evaluate on validate. We will pick the best model using accuracy <evaluation metric> because the data is mostly balanced, and the risk of an event happening balances the risk of getting a prediction wrong. \n",
    "    \n",
    "### Baseline\n",
    "\n",
    "I will set a baseline prediction by predicting all passengers to not survive (survived == 0). I will evaluate the accuracy of that. "
   ]
  },
  {
   "cell_type": "code",
   "execution_count": 8,
   "id": "adce4c47",
   "metadata": {},
   "outputs": [],
   "source": [
    "# baseline"
   ]
  },
  {
   "cell_type": "markdown",
   "id": "a6bc1161",
   "metadata": {},
   "source": [
    "baseline performed at x% accuracy\n",
    "\n",
    "### Fit 3 models\n",
    "\n",
    "The top 3 models we built were a decision tree, random forest, and knn. \n",
    "The models differed in (the features, the algorithms)\n",
    "The random forest performed the best at x% accuracy as you will see. "
   ]
  },
  {
   "cell_type": "code",
   "execution_count": 9,
   "id": "f66ed60a",
   "metadata": {},
   "outputs": [],
   "source": [
    "# fit on train\n",
    "# predict on train\n",
    "# evaluate on train"
   ]
  },
  {
   "cell_type": "code",
   "execution_count": 10,
   "id": "40861353",
   "metadata": {},
   "outputs": [],
   "source": [
    "# predict on validate\n",
    "# evaluate on validate"
   ]
  },
  {
   "cell_type": "markdown",
   "id": "6123817d",
   "metadata": {},
   "source": [
    "None of these model appear to be overfit. X model performed the best on the validate sample, therefore, I moved forward with that model. "
   ]
  },
  {
   "cell_type": "code",
   "execution_count": 11,
   "id": "1b5216a5",
   "metadata": {},
   "outputs": [],
   "source": [
    "# predict on test\n",
    "# evaluate on test"
   ]
  },
  {
   "cell_type": "markdown",
   "id": "aa7f198d",
   "metadata": {},
   "source": [
    "I expect this model to perform with x% accuracy in the future on data it has not seen, given no major changes in our data source. "
   ]
  },
  {
   "cell_type": "markdown",
   "id": "ab7531e8",
   "metadata": {},
   "source": [
    "## Conclusion\n",
    "\n",
    "### Summary\n",
    "\n",
    "### Recommendations\n",
    "\n",
    "### Next Steps"
   ]
  },
  {
   "cell_type": "code",
   "execution_count": null,
   "id": "097d66ff",
   "metadata": {},
   "outputs": [],
   "source": []
  }
 ],
 "metadata": {
  "kernelspec": {
   "display_name": "Python 3",
   "language": "python",
   "name": "python3"
  },
  "language_info": {
   "codemirror_mode": {
    "name": "ipython",
    "version": 3
   },
   "file_extension": ".py",
   "mimetype": "text/x-python",
   "name": "python",
   "nbconvert_exporter": "python",
   "pygments_lexer": "ipython3",
   "version": "3.8.8"
  }
 },
 "nbformat": 4,
 "nbformat_minor": 5
}
