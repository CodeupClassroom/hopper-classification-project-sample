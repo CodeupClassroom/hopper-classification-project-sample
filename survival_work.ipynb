{
 "cells": [
  {
   "cell_type": "markdown",
   "id": "e2b186d4",
   "metadata": {},
   "source": [
    "intro\n",
    "\n",
    "goals\n",
    "summary"
   ]
  },
  {
   "cell_type": "markdown",
   "id": "19e21a1c",
   "metadata": {},
   "source": [
    "acquire data from ..."
   ]
  },
  {
   "cell_type": "code",
   "execution_count": 7,
   "id": "f41e8127",
   "metadata": {
    "scrolled": true
   },
   "outputs": [],
   "source": [
    "import acquireTitanic\n",
    "\n",
    "df = acquireTitanic.get_data()"
   ]
  },
  {
   "cell_type": "markdown",
   "id": "58c72a41",
   "metadata": {},
   "source": [
    "Prep data by...\n",
    "\n",
    "- encode embarked\n",
    "- drop embarked and embark_town (interdependent on each other and represented in "
   ]
  },
  {
   "cell_type": "code",
   "execution_count": 8,
   "id": "4af77e86",
   "metadata": {},
   "outputs": [
    {
     "name": "stdout",
     "output_type": "stream",
     "text": [
      "<class 'pandas.core.frame.DataFrame'>\n",
      "RangeIndex: 891 entries, 0 to 890\n",
      "Data columns (total 13 columns):\n",
      " #   Column        Non-Null Count  Dtype  \n",
      "---  ------        --------------  -----  \n",
      " 0   passenger_id  891 non-null    int64  \n",
      " 1   survived      891 non-null    int64  \n",
      " 2   pclass        891 non-null    int64  \n",
      " 3   sex           891 non-null    object \n",
      " 4   age           714 non-null    float64\n",
      " 5   sibsp         891 non-null    int64  \n",
      " 6   parch         891 non-null    int64  \n",
      " 7   fare          891 non-null    float64\n",
      " 8   embarked      889 non-null    object \n",
      " 9   class         891 non-null    object \n",
      " 10  deck          203 non-null    object \n",
      " 11  embark_town   889 non-null    object \n",
      " 12  alone         891 non-null    int64  \n",
      "dtypes: float64(2), int64(6), object(5)\n",
      "memory usage: 90.6+ KB\n",
      "None\n"
     ]
    },
    {
     "data": {
      "text/html": [
       "<div>\n",
       "<style scoped>\n",
       "    .dataframe tbody tr th:only-of-type {\n",
       "        vertical-align: middle;\n",
       "    }\n",
       "\n",
       "    .dataframe tbody tr th {\n",
       "        vertical-align: top;\n",
       "    }\n",
       "\n",
       "    .dataframe thead th {\n",
       "        text-align: right;\n",
       "    }\n",
       "</style>\n",
       "<table border=\"1\" class=\"dataframe\">\n",
       "  <thead>\n",
       "    <tr style=\"text-align: right;\">\n",
       "      <th></th>\n",
       "      <th>passenger_id</th>\n",
       "      <th>survived</th>\n",
       "      <th>pclass</th>\n",
       "      <th>sex</th>\n",
       "      <th>age</th>\n",
       "      <th>sibsp</th>\n",
       "      <th>parch</th>\n",
       "      <th>fare</th>\n",
       "      <th>embarked</th>\n",
       "      <th>class</th>\n",
       "      <th>deck</th>\n",
       "      <th>embark_town</th>\n",
       "      <th>alone</th>\n",
       "    </tr>\n",
       "  </thead>\n",
       "  <tbody>\n",
       "    <tr>\n",
       "      <th>0</th>\n",
       "      <td>0</td>\n",
       "      <td>0</td>\n",
       "      <td>3</td>\n",
       "      <td>male</td>\n",
       "      <td>22.0</td>\n",
       "      <td>1</td>\n",
       "      <td>0</td>\n",
       "      <td>7.2500</td>\n",
       "      <td>S</td>\n",
       "      <td>Third</td>\n",
       "      <td>None</td>\n",
       "      <td>Southampton</td>\n",
       "      <td>0</td>\n",
       "    </tr>\n",
       "    <tr>\n",
       "      <th>1</th>\n",
       "      <td>1</td>\n",
       "      <td>1</td>\n",
       "      <td>1</td>\n",
       "      <td>female</td>\n",
       "      <td>38.0</td>\n",
       "      <td>1</td>\n",
       "      <td>0</td>\n",
       "      <td>71.2833</td>\n",
       "      <td>C</td>\n",
       "      <td>First</td>\n",
       "      <td>C</td>\n",
       "      <td>Cherbourg</td>\n",
       "      <td>0</td>\n",
       "    </tr>\n",
       "    <tr>\n",
       "      <th>2</th>\n",
       "      <td>2</td>\n",
       "      <td>1</td>\n",
       "      <td>3</td>\n",
       "      <td>female</td>\n",
       "      <td>26.0</td>\n",
       "      <td>0</td>\n",
       "      <td>0</td>\n",
       "      <td>7.9250</td>\n",
       "      <td>S</td>\n",
       "      <td>Third</td>\n",
       "      <td>None</td>\n",
       "      <td>Southampton</td>\n",
       "      <td>1</td>\n",
       "    </tr>\n",
       "    <tr>\n",
       "      <th>3</th>\n",
       "      <td>3</td>\n",
       "      <td>1</td>\n",
       "      <td>1</td>\n",
       "      <td>female</td>\n",
       "      <td>35.0</td>\n",
       "      <td>1</td>\n",
       "      <td>0</td>\n",
       "      <td>53.1000</td>\n",
       "      <td>S</td>\n",
       "      <td>First</td>\n",
       "      <td>C</td>\n",
       "      <td>Southampton</td>\n",
       "      <td>0</td>\n",
       "    </tr>\n",
       "    <tr>\n",
       "      <th>4</th>\n",
       "      <td>4</td>\n",
       "      <td>0</td>\n",
       "      <td>3</td>\n",
       "      <td>male</td>\n",
       "      <td>35.0</td>\n",
       "      <td>0</td>\n",
       "      <td>0</td>\n",
       "      <td>8.0500</td>\n",
       "      <td>S</td>\n",
       "      <td>Third</td>\n",
       "      <td>None</td>\n",
       "      <td>Southampton</td>\n",
       "      <td>1</td>\n",
       "    </tr>\n",
       "  </tbody>\n",
       "</table>\n",
       "</div>"
      ],
      "text/plain": [
       "   passenger_id  survived  pclass     sex   age  sibsp  parch     fare  \\\n",
       "0             0         0       3    male  22.0      1      0   7.2500   \n",
       "1             1         1       1  female  38.0      1      0  71.2833   \n",
       "2             2         1       3  female  26.0      0      0   7.9250   \n",
       "3             3         1       1  female  35.0      1      0  53.1000   \n",
       "4             4         0       3    male  35.0      0      0   8.0500   \n",
       "\n",
       "  embarked  class  deck  embark_town  alone  \n",
       "0        S  Third  None  Southampton      0  \n",
       "1        C  First     C    Cherbourg      0  \n",
       "2        S  Third  None  Southampton      1  \n",
       "3        S  First     C  Southampton      0  \n",
       "4        S  Third  None  Southampton      1  "
      ]
     },
     "execution_count": 8,
     "metadata": {},
     "output_type": "execute_result"
    }
   ],
   "source": [
    "import pandas as pd\n",
    "\n",
    "print(df.info())\n",
    "\n",
    "df.head()"
   ]
  },
  {
   "cell_type": "markdown",
   "id": "7a195780",
   "metadata": {},
   "source": [
    "**to-do**\n",
    "\n",
    "1. Class/pclass: Do pclass and class represent the same info? If so, drop class and keep pclass because it is represented as an integer.\n",
    "1. Dummy Vars: Are embarked and embark_town represent the same information? If so, get dummy variables for sex, embarked\n",
    "1. Drop columns: embarked and sex columns (now dummy vars), deck (almost 700 missing values), class (#1 above was a YES). \n",
    "1. Drop rows: where age is missing (177 rows are missing values, and age will likely be a very influential feature). \n",
    "1. Write prep function\n",
    "1. Split data\n",
    "1. Write split function\n",
    "1. Write prep_split_function\n",
    "\n",
    "*1. Class/pclass: Do pclass and class represent the same info? If so, drop class and keep pclass because it is represented as an integer.*"
   ]
  },
  {
   "cell_type": "code",
   "execution_count": 9,
   "id": "e442dde9",
   "metadata": {},
   "outputs": [
    {
     "data": {
      "text/html": [
       "<div>\n",
       "<style scoped>\n",
       "    .dataframe tbody tr th:only-of-type {\n",
       "        vertical-align: middle;\n",
       "    }\n",
       "\n",
       "    .dataframe tbody tr th {\n",
       "        vertical-align: top;\n",
       "    }\n",
       "\n",
       "    .dataframe thead th {\n",
       "        text-align: right;\n",
       "    }\n",
       "</style>\n",
       "<table border=\"1\" class=\"dataframe\">\n",
       "  <thead>\n",
       "    <tr style=\"text-align: right;\">\n",
       "      <th>pclass</th>\n",
       "      <th>1</th>\n",
       "      <th>2</th>\n",
       "      <th>3</th>\n",
       "    </tr>\n",
       "    <tr>\n",
       "      <th>class</th>\n",
       "      <th></th>\n",
       "      <th></th>\n",
       "      <th></th>\n",
       "    </tr>\n",
       "  </thead>\n",
       "  <tbody>\n",
       "    <tr>\n",
       "      <th>First</th>\n",
       "      <td>216</td>\n",
       "      <td>0</td>\n",
       "      <td>0</td>\n",
       "    </tr>\n",
       "    <tr>\n",
       "      <th>Second</th>\n",
       "      <td>0</td>\n",
       "      <td>184</td>\n",
       "      <td>0</td>\n",
       "    </tr>\n",
       "    <tr>\n",
       "      <th>Third</th>\n",
       "      <td>0</td>\n",
       "      <td>0</td>\n",
       "      <td>491</td>\n",
       "    </tr>\n",
       "  </tbody>\n",
       "</table>\n",
       "</div>"
      ],
      "text/plain": [
       "pclass    1    2    3\n",
       "class                \n",
       "First   216    0    0\n",
       "Second    0  184    0\n",
       "Third     0    0  491"
      ]
     },
     "execution_count": 9,
     "metadata": {},
     "output_type": "execute_result"
    }
   ],
   "source": [
    "pd.crosstab(df['class'], df['pclass'])"
   ]
  },
  {
   "cell_type": "markdown",
   "id": "c2d93338",
   "metadata": {},
   "source": [
    "Yes! Add 'class' to the list of columns to drop. \n",
    "\n",
    "*2. Dummy Vars: Do embarked and embark_town represent the same information? If so, get dummy variables for sex, embarked*"
   ]
  },
  {
   "cell_type": "code",
   "execution_count": 10,
   "id": "2eef5fb2",
   "metadata": {},
   "outputs": [
    {
     "data": {
      "text/html": [
       "<div>\n",
       "<style scoped>\n",
       "    .dataframe tbody tr th:only-of-type {\n",
       "        vertical-align: middle;\n",
       "    }\n",
       "\n",
       "    .dataframe tbody tr th {\n",
       "        vertical-align: top;\n",
       "    }\n",
       "\n",
       "    .dataframe thead th {\n",
       "        text-align: right;\n",
       "    }\n",
       "</style>\n",
       "<table border=\"1\" class=\"dataframe\">\n",
       "  <thead>\n",
       "    <tr style=\"text-align: right;\">\n",
       "      <th>embark_town</th>\n",
       "      <th>Cherbourg</th>\n",
       "      <th>Queenstown</th>\n",
       "      <th>Southampton</th>\n",
       "    </tr>\n",
       "    <tr>\n",
       "      <th>embarked</th>\n",
       "      <th></th>\n",
       "      <th></th>\n",
       "      <th></th>\n",
       "    </tr>\n",
       "  </thead>\n",
       "  <tbody>\n",
       "    <tr>\n",
       "      <th>C</th>\n",
       "      <td>168</td>\n",
       "      <td>0</td>\n",
       "      <td>0</td>\n",
       "    </tr>\n",
       "    <tr>\n",
       "      <th>Q</th>\n",
       "      <td>0</td>\n",
       "      <td>77</td>\n",
       "      <td>0</td>\n",
       "    </tr>\n",
       "    <tr>\n",
       "      <th>S</th>\n",
       "      <td>0</td>\n",
       "      <td>0</td>\n",
       "      <td>644</td>\n",
       "    </tr>\n",
       "  </tbody>\n",
       "</table>\n",
       "</div>"
      ],
      "text/plain": [
       "embark_town  Cherbourg  Queenstown  Southampton\n",
       "embarked                                       \n",
       "C                  168           0            0\n",
       "Q                    0          77            0\n",
       "S                    0           0          644"
      ]
     },
     "execution_count": 10,
     "metadata": {},
     "output_type": "execute_result"
    }
   ],
   "source": [
    "pd.crosstab(df.embarked, df.embark_town)"
   ]
  },
  {
   "cell_type": "markdown",
   "id": "ff9df77f",
   "metadata": {},
   "source": [
    "YES! Get dummy variables for sex, embarked"
   ]
  },
  {
   "cell_type": "code",
   "execution_count": 11,
   "id": "0f826aee",
   "metadata": {},
   "outputs": [
    {
     "data": {
      "text/html": [
       "<div>\n",
       "<style scoped>\n",
       "    .dataframe tbody tr th:only-of-type {\n",
       "        vertical-align: middle;\n",
       "    }\n",
       "\n",
       "    .dataframe tbody tr th {\n",
       "        vertical-align: top;\n",
       "    }\n",
       "\n",
       "    .dataframe thead th {\n",
       "        text-align: right;\n",
       "    }\n",
       "</style>\n",
       "<table border=\"1\" class=\"dataframe\">\n",
       "  <thead>\n",
       "    <tr style=\"text-align: right;\">\n",
       "      <th></th>\n",
       "      <th>sex_male</th>\n",
       "      <th>embarked_Q</th>\n",
       "      <th>embarked_S</th>\n",
       "    </tr>\n",
       "  </thead>\n",
       "  <tbody>\n",
       "    <tr>\n",
       "      <th>0</th>\n",
       "      <td>1</td>\n",
       "      <td>0</td>\n",
       "      <td>1</td>\n",
       "    </tr>\n",
       "    <tr>\n",
       "      <th>1</th>\n",
       "      <td>0</td>\n",
       "      <td>0</td>\n",
       "      <td>0</td>\n",
       "    </tr>\n",
       "    <tr>\n",
       "      <th>2</th>\n",
       "      <td>0</td>\n",
       "      <td>0</td>\n",
       "      <td>1</td>\n",
       "    </tr>\n",
       "    <tr>\n",
       "      <th>3</th>\n",
       "      <td>0</td>\n",
       "      <td>0</td>\n",
       "      <td>1</td>\n",
       "    </tr>\n",
       "    <tr>\n",
       "      <th>4</th>\n",
       "      <td>1</td>\n",
       "      <td>0</td>\n",
       "      <td>1</td>\n",
       "    </tr>\n",
       "    <tr>\n",
       "      <th>...</th>\n",
       "      <td>...</td>\n",
       "      <td>...</td>\n",
       "      <td>...</td>\n",
       "    </tr>\n",
       "    <tr>\n",
       "      <th>886</th>\n",
       "      <td>1</td>\n",
       "      <td>0</td>\n",
       "      <td>1</td>\n",
       "    </tr>\n",
       "    <tr>\n",
       "      <th>887</th>\n",
       "      <td>0</td>\n",
       "      <td>0</td>\n",
       "      <td>1</td>\n",
       "    </tr>\n",
       "    <tr>\n",
       "      <th>888</th>\n",
       "      <td>0</td>\n",
       "      <td>0</td>\n",
       "      <td>1</td>\n",
       "    </tr>\n",
       "    <tr>\n",
       "      <th>889</th>\n",
       "      <td>1</td>\n",
       "      <td>0</td>\n",
       "      <td>0</td>\n",
       "    </tr>\n",
       "    <tr>\n",
       "      <th>890</th>\n",
       "      <td>1</td>\n",
       "      <td>1</td>\n",
       "      <td>0</td>\n",
       "    </tr>\n",
       "  </tbody>\n",
       "</table>\n",
       "<p>891 rows × 3 columns</p>\n",
       "</div>"
      ],
      "text/plain": [
       "     sex_male  embarked_Q  embarked_S\n",
       "0           1           0           1\n",
       "1           0           0           0\n",
       "2           0           0           1\n",
       "3           0           0           1\n",
       "4           1           0           1\n",
       "..        ...         ...         ...\n",
       "886         1           0           1\n",
       "887         0           0           1\n",
       "888         0           0           1\n",
       "889         1           0           0\n",
       "890         1           1           0\n",
       "\n",
       "[891 rows x 3 columns]"
      ]
     },
     "execution_count": 11,
     "metadata": {},
     "output_type": "execute_result"
    }
   ],
   "source": [
    "# get the boolean variables for classes in the sex and embarked columns, dropping one of the categories for each \n",
    "# original column\n",
    "\n",
    "dummies_df = pd.get_dummies(df[['sex', 'embarked']], drop_first=True)\n",
    "dummies_df"
   ]
  },
  {
   "cell_type": "code",
   "execution_count": 12,
   "id": "cadbb92d",
   "metadata": {},
   "outputs": [
    {
     "data": {
      "text/plain": [
       "Index(['passenger_id', 'survived', 'pclass', 'sex', 'age', 'sibsp', 'parch',\n",
       "       'fare', 'embarked', 'class', 'deck', 'embark_town', 'alone', 'sex_male',\n",
       "       'embarked_Q', 'embarked_S'],\n",
       "      dtype='object')"
      ]
     },
     "execution_count": 12,
     "metadata": {},
     "output_type": "execute_result"
    }
   ],
   "source": [
    "# concatenate the dummy var to the original dataframe\n",
    "df_with_dummies = pd.concat([df, dummies_df], axis=1)\n",
    "df_with_dummies.columns"
   ]
  },
  {
   "cell_type": "code",
   "execution_count": 13,
   "id": "d1b4428b",
   "metadata": {},
   "outputs": [
    {
     "data": {
      "text/html": [
       "<div>\n",
       "<style scoped>\n",
       "    .dataframe tbody tr th:only-of-type {\n",
       "        vertical-align: middle;\n",
       "    }\n",
       "\n",
       "    .dataframe tbody tr th {\n",
       "        vertical-align: top;\n",
       "    }\n",
       "\n",
       "    .dataframe thead th {\n",
       "        text-align: right;\n",
       "    }\n",
       "</style>\n",
       "<table border=\"1\" class=\"dataframe\">\n",
       "  <thead>\n",
       "    <tr style=\"text-align: right;\">\n",
       "      <th>sex_male</th>\n",
       "      <th>0</th>\n",
       "      <th>1</th>\n",
       "    </tr>\n",
       "    <tr>\n",
       "      <th>sex</th>\n",
       "      <th></th>\n",
       "      <th></th>\n",
       "    </tr>\n",
       "  </thead>\n",
       "  <tbody>\n",
       "    <tr>\n",
       "      <th>female</th>\n",
       "      <td>314</td>\n",
       "      <td>0</td>\n",
       "    </tr>\n",
       "    <tr>\n",
       "      <th>male</th>\n",
       "      <td>0</td>\n",
       "      <td>577</td>\n",
       "    </tr>\n",
       "  </tbody>\n",
       "</table>\n",
       "</div>"
      ],
      "text/plain": [
       "sex_male    0    1\n",
       "sex               \n",
       "female    314    0\n",
       "male        0  577"
      ]
     },
     "execution_count": 13,
     "metadata": {},
     "output_type": "execute_result"
    }
   ],
   "source": [
    "# verify sex\n",
    "pd.crosstab(df_with_dummies.sex, df_with_dummies.sex_male)"
   ]
  },
  {
   "cell_type": "code",
   "execution_count": 14,
   "id": "238a7d61",
   "metadata": {},
   "outputs": [
    {
     "data": {
      "text/html": [
       "<div>\n",
       "<style scoped>\n",
       "    .dataframe tbody tr th:only-of-type {\n",
       "        vertical-align: middle;\n",
       "    }\n",
       "\n",
       "    .dataframe tbody tr th {\n",
       "        vertical-align: top;\n",
       "    }\n",
       "\n",
       "    .dataframe thead th {\n",
       "        text-align: right;\n",
       "    }\n",
       "</style>\n",
       "<table border=\"1\" class=\"dataframe\">\n",
       "  <thead>\n",
       "    <tr style=\"text-align: right;\">\n",
       "      <th></th>\n",
       "      <th>embarked_Q</th>\n",
       "      <th>embarked_S</th>\n",
       "    </tr>\n",
       "    <tr>\n",
       "      <th>embarked</th>\n",
       "      <th></th>\n",
       "      <th></th>\n",
       "    </tr>\n",
       "  </thead>\n",
       "  <tbody>\n",
       "    <tr>\n",
       "      <th>C</th>\n",
       "      <td>0.0</td>\n",
       "      <td>0.0</td>\n",
       "    </tr>\n",
       "    <tr>\n",
       "      <th>Q</th>\n",
       "      <td>77.0</td>\n",
       "      <td>0.0</td>\n",
       "    </tr>\n",
       "    <tr>\n",
       "      <th>S</th>\n",
       "      <td>0.0</td>\n",
       "      <td>644.0</td>\n",
       "    </tr>\n",
       "  </tbody>\n",
       "</table>\n",
       "</div>"
      ],
      "text/plain": [
       "          embarked_Q  embarked_S\n",
       "embarked                        \n",
       "C                0.0         0.0\n",
       "Q               77.0         0.0\n",
       "S                0.0       644.0"
      ]
     },
     "execution_count": 14,
     "metadata": {},
     "output_type": "execute_result"
    }
   ],
   "source": [
    "# verify embarked\n",
    "df_with_dummies.groupby('embarked')[['embarked_Q', 'embarked_S']].sum()"
   ]
  },
  {
   "cell_type": "markdown",
   "id": "7d038672",
   "metadata": {},
   "source": [
    "*3. Drop columns: embarked and sex columns (now dummy vars), deck (almost 700 missing values), class (#1 above was a YES). *"
   ]
  },
  {
   "cell_type": "code",
   "execution_count": 15,
   "id": "7240fe8e",
   "metadata": {},
   "outputs": [],
   "source": [
    "# drop columns represented in dummy vars\n",
    "df_dropped_cols_with_dummies = df_with_dummies.drop(columns=['embarked', 'sex', 'deck', 'class'])"
   ]
  },
  {
   "cell_type": "markdown",
   "id": "a479a314",
   "metadata": {},
   "source": [
    "*4. Drop rows where age is missing (177 rows are missing values, and age will likely be a very influential feature).*"
   ]
  },
  {
   "cell_type": "code",
   "execution_count": null,
   "id": "891d3236",
   "metadata": {},
   "outputs": [],
   "source": [
    "# drop rows where age is missing\n",
    "df_cleaned = df_dropped_cols_with_dummies[df_dropped_cols_with_dummies.age.notnull()]"
   ]
  },
  {
   "cell_type": "code",
   "execution_count": 18,
   "id": "08267383",
   "metadata": {},
   "outputs": [],
   "source": [
    "# drop 2 rows where embark_town is null. \\\n",
    "df_cleaned = df_cleaned[df_cleaned.embark_town.notnull()]"
   ]
  },
  {
   "cell_type": "code",
   "execution_count": 19,
   "id": "c66f3a91",
   "metadata": {},
   "outputs": [
    {
     "name": "stdout",
     "output_type": "stream",
     "text": [
      "<class 'pandas.core.frame.DataFrame'>\n",
      "Int64Index: 712 entries, 0 to 890\n",
      "Data columns (total 12 columns):\n",
      " #   Column        Non-Null Count  Dtype  \n",
      "---  ------        --------------  -----  \n",
      " 0   passenger_id  712 non-null    int64  \n",
      " 1   survived      712 non-null    int64  \n",
      " 2   pclass        712 non-null    int64  \n",
      " 3   age           712 non-null    float64\n",
      " 4   sibsp         712 non-null    int64  \n",
      " 5   parch         712 non-null    int64  \n",
      " 6   fare          712 non-null    float64\n",
      " 7   embark_town   712 non-null    object \n",
      " 8   alone         712 non-null    int64  \n",
      " 9   sex_male      712 non-null    uint8  \n",
      " 10  embarked_Q    712 non-null    uint8  \n",
      " 11  embarked_S    712 non-null    uint8  \n",
      "dtypes: float64(2), int64(6), object(1), uint8(3)\n",
      "memory usage: 57.7+ KB\n"
     ]
    }
   ],
   "source": [
    "# take a look at our prepped data\n",
    "df_cleaned.info()"
   ]
  },
  {
   "cell_type": "markdown",
   "id": "8d6bdc28",
   "metadata": {},
   "source": [
    "*6. Write prep function*"
   ]
  },
  {
   "cell_type": "code",
   "execution_count": 21,
   "id": "af6e51ff",
   "metadata": {},
   "outputs": [],
   "source": [
    "def clean_titanic(df):\n",
    "    '''\n",
    "    This function takes in dataframe as argument, \n",
    "    create dummy variables out of sex and embarked, and concats those to original dataframe\n",
    "    drops columns embarked, sex, deck, class\n",
    "    drops rows where age (177 rows) or embarked_town (2 rows) are null. \n",
    "    it returns the new cleaned dataframe.\n",
    "    '''\n",
    "    dummies_df = pd.get_dummies(df[['sex', 'embarked']], drop_first=True)\n",
    "    df_with_dummies = pd.concat([df, dummies_df], axis=1)\n",
    "    df_dropped_cols_with_dummies = df_with_dummies.drop(columns=['embarked', 'sex', 'deck', 'class'])\n",
    "    df_cleaned = df_dropped_cols_with_dummies[df_dropped_cols_with_dummies.age.notnull()]\n",
    "    return df_cleaned"
   ]
  },
  {
   "cell_type": "code",
   "execution_count": 22,
   "id": "c7e3b9b9",
   "metadata": {},
   "outputs": [],
   "source": [
    "df = clean_titanic(df)"
   ]
  },
  {
   "cell_type": "code",
   "execution_count": 26,
   "id": "9a9647b6",
   "metadata": {},
   "outputs": [],
   "source": [
    "from sklearn.model_selection import train_test_split\n",
    "seed = 123\n",
    "train_and_validate, test = train_test_split(\n",
    "        df, test_size=0.2, random_state=seed, stratify=df.survived\n",
    "    )"
   ]
  },
  {
   "cell_type": "code",
   "execution_count": 28,
   "id": "13337cc2",
   "metadata": {},
   "outputs": [],
   "source": [
    "train, validate = train_test_split(\n",
    "        train_and_validate,\n",
    "        test_size=0.3,\n",
    "        random_state=seed,\n",
    "        stratify=train_and_validate.survived)"
   ]
  },
  {
   "cell_type": "code",
   "execution_count": 30,
   "id": "eae96d54",
   "metadata": {},
   "outputs": [
    {
     "name": "stdout",
     "output_type": "stream",
     "text": [
      "(399, 12)\n",
      "(172, 12)\n",
      "(143, 12)\n"
     ]
    }
   ],
   "source": [
    "print(train.shape)\n",
    "print(validate.shape)\n",
    "print(test.shape)"
   ]
  },
  {
   "cell_type": "code",
   "execution_count": 31,
   "id": "c795a2bd",
   "metadata": {},
   "outputs": [],
   "source": [
    "def train_validate_test_split(prepped_df, seed=123):\n",
    "    train_and_validate, test = train_test_split(\n",
    "        prepped_df, test_size=0.2, random_state=seed, stratify=prepped_df.survived\n",
    "    )\n",
    "    train, validate = train_test_split(\n",
    "        train_and_validate,\n",
    "        test_size=0.3,\n",
    "        random_state=seed,\n",
    "        stratify=train_and_validate.survived,\n",
    "    )\n",
    "    return train, validate, test"
   ]
  },
  {
   "cell_type": "code",
   "execution_count": 32,
   "id": "b3774809",
   "metadata": {},
   "outputs": [],
   "source": [
    "train, validate, test = train_validate_test_split(df)"
   ]
  },
  {
   "cell_type": "code",
   "execution_count": null,
   "id": "ec593d67",
   "metadata": {},
   "outputs": [],
   "source": [
    "print(\"(Rows, Columns)\\nTrain: \", train.shape, \n",
    "      \"\\nValidate: \", validate.shape, \n",
    "      \"\\nTest: \", test.shape)\n",
    "train.head()"
   ]
  },
  {
   "cell_type": "markdown",
   "id": "f43bf0cc",
   "metadata": {},
   "source": [
    "Analyze Survival"
   ]
  }
 ],
 "metadata": {
  "kernelspec": {
   "display_name": "Python 3",
   "language": "python",
   "name": "python3"
  },
  "language_info": {
   "codemirror_mode": {
    "name": "ipython",
    "version": 3
   },
   "file_extension": ".py",
   "mimetype": "text/x-python",
   "name": "python",
   "nbconvert_exporter": "python",
   "pygments_lexer": "ipython3",
   "version": "3.8.8"
  }
 },
 "nbformat": 4,
 "nbformat_minor": 5
}
